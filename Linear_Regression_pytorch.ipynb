{
  "nbformat": 4,
  "nbformat_minor": 0,
  "metadata": {
    "colab": {
      "name": "Linear Regression_pytorch.ipynb",
      "provenance": [],
      "authorship_tag": "ABX9TyO4ZMxYtCleonFU4BnRqH7r",
      "include_colab_link": true
    },
    "kernelspec": {
      "name": "python3",
      "display_name": "Python 3"
    }
  },
  "cells": [
    {
      "cell_type": "markdown",
      "metadata": {
        "id": "view-in-github",
        "colab_type": "text"
      },
      "source": [
        "<a href=\"https://colab.research.google.com/github/Atit-Bashyal/Linear_Regression-Back-Propogation-using-pytorch/blob/master/Linear_Regression_pytorch.ipynb\" target=\"_parent\"><img src=\"https://colab.research.google.com/assets/colab-badge.svg\" alt=\"Open In Colab\"/></a>"
      ]
    },
    {
      "cell_type": "code",
      "metadata": {
        "id": "zezmC5ikVkAT",
        "colab_type": "code",
        "outputId": "1e5efce9-91cd-49a9-ec76-6135e2a26641",
        "colab": {
          "base_uri": "https://localhost:8080/",
          "height": 68
        }
      },
      "source": [
        "!pip3 install torch\n"
      ],
      "execution_count": 0,
      "outputs": [
        {
          "output_type": "stream",
          "text": [
            "Requirement already satisfied: torch in /usr/local/lib/python3.6/dist-packages (1.5.0+cu101)\n",
            "Requirement already satisfied: numpy in /usr/local/lib/python3.6/dist-packages (from torch) (1.18.5)\n",
            "Requirement already satisfied: future in /usr/local/lib/python3.6/dist-packages (from torch) (0.16.0)\n"
          ],
          "name": "stdout"
        }
      ]
    },
    {
      "cell_type": "code",
      "metadata": {
        "id": "CrTS9EzmV_2o",
        "colab_type": "code",
        "colab": {}
      },
      "source": [
        "import torch\n",
        "import torch.nn as nn\n",
        "import matplotlib.pyplot as plt\n",
        "import numpy as np\n"
      ],
      "execution_count": 0,
      "outputs": []
    },
    {
      "cell_type": "code",
      "metadata": {
        "id": "xBnMKPzZcmDb",
        "colab_type": "code",
        "outputId": "c4e29069-621e-4e4b-8fb9-66e140cc508e",
        "colab": {
          "base_uri": "https://localhost:8080/",
          "height": 282
        }
      },
      "source": [
        "X = torch.randn(100,1)*10\n",
        "y = X + torch.randn(100,1)\n",
        "plt.plot(X.numpy(),y.numpy(),'o')"
      ],
      "execution_count": 0,
      "outputs": [
        {
          "output_type": "execute_result",
          "data": {
            "text/plain": [
              "[<matplotlib.lines.Line2D at 0x7fc0b3ce2438>]"
            ]
          },
          "metadata": {
            "tags": []
          },
          "execution_count": 35
        },
        {
          "output_type": "display_data",
          "data": {
            "image/png": "[encoded data removed]",
            "text/plain": [
              "<Figure size 432x288 with 1 Axes>"
            ]
          },
          "metadata": {
            "tags": [],
            "needs_background": "light"
          }
        }
      ]
    },
    {
      "cell_type": "code",
      "metadata": {
        "id": "7cwO4pPkYzKo",
        "colab_type": "code",
        "colab": {}
      },
      "source": [
        "class LR(nn.Module):\n",
        "  def __init__(self,input_size,output_size):\n",
        "    super().__init__()\n",
        "    self.linear = nn.Linear(input_size,output_size)\n",
        "  def forward(self,x):\n",
        "    pred = self.linear(x)\n",
        "    return pred\n",
        "\n"
      ],
      "execution_count": 0,
      "outputs": []
    },
    {
      "cell_type": "code",
      "metadata": {
        "id": "fLAn9Uspa97L",
        "colab_type": "code",
        "colab": {}
      },
      "source": [
        "torch.manual_seed(1)\n",
        "model = LR(1,1)\n"
      ],
      "execution_count": 0,
      "outputs": []
    },
    {
      "cell_type": "code",
      "metadata": {
        "id": "G0aHd6lSbEDk",
        "colab_type": "code",
        "colab": {}
      },
      "source": [
        "[w,b]=model.parameters()\n",
        "def get_param():\n",
        "  return (w[0][0].item(),b[0].item())\n"
      ],
      "execution_count": 0,
      "outputs": []
    },
    {
      "cell_type": "code",
      "metadata": {
        "id": "ZP3NHMewbU9f",
        "colab_type": "code",
        "colab": {}
      },
      "source": [
        "def plot_fit(title):\n",
        "  plt.title = title\n",
        "  w1,b1 = get_param()\n",
        "  x1 = np.array([-30,30])\n",
        "  y1 = w1*x1 +b1\n",
        "  plt.plot(x1,y1,'r')\n",
        "  plt.scatter(X,y)\n",
        "  plt.show()\n"
      ],
      "execution_count": 0,
      "outputs": []
    },
    {
      "cell_type": "code",
      "metadata": {
        "id": "m-bcFlL7bcXB",
        "colab_type": "code",
        "outputId": "6911e1d2-1997-480a-b989-20749833ae37",
        "colab": {
          "base_uri": "https://localhost:8080/",
          "height": 265
        }
      },
      "source": [
        "plot_fit('linear model')"
      ],
      "execution_count": 0,
      "outputs": [
        {
          "output_type": "display_data",
          "data": {
            "image/png": "[encoded data removed]",
            "text/plain": [
              "<Figure size 432x288 with 1 Axes>"
            ]
          },
          "metadata": {
            "tags": [],
            "needs_background": "light"
          }
        }
      ]
    },
    {
      "cell_type": "code",
      "metadata": {
        "id": "65M-WKKJhpde",
        "colab_type": "code",
        "colab": {}
      },
      "source": [
        "c = nn.MSELoss()\n",
        "opt = torch.optim.SGD(model.parameters(),lr=0.01)"
      ],
      "execution_count": 0,
      "outputs": []
    },
    {
      "cell_type": "code",
      "metadata": {
        "id": "i93S4ok3nZTB",
        "colab_type": "code",
        "outputId": "dff95898-b87c-4d07-d812-e3a851d98e40",
        "colab": {
          "base_uri": "https://localhost:8080/",
          "height": 1000
        }
      },
      "source": [
        "epochs = 100\n",
        "losses = []\n",
        "for i in range(epochs):\n",
        "  y_pred = model.forward(X)\n",
        "  loss = c(y_pred,y)\n",
        "  print ('epoch:',i,\"loss:\",loss.item())\n",
        "  losses.append(loss)\n",
        "  opt.zero_grad()\n",
        "  loss.backward()\n",
        "  opt.step()"
      ],
      "execution_count": 0,
      "outputs": [
        {
          "output_type": "stream",
          "text": [
            "epoch: 0 loss: 80.67402648925781\n",
            "epoch: 1 loss: 71.34744262695312\n",
            "epoch: 2 loss: 63.114898681640625\n",
            "epoch: 3 loss: 55.847900390625\n",
            "epoch: 4 loss: 49.433223724365234\n",
            "epoch: 5 loss: 43.77073287963867\n",
            "epoch: 6 loss: 38.77222442626953\n",
            "epoch: 7 loss: 34.35978698730469\n",
            "epoch: 8 loss: 30.464662551879883\n",
            "epoch: 9 loss: 27.026123046875\n",
            "epoch: 10 loss: 23.99054527282715\n",
            "epoch: 11 loss: 21.31072425842285\n",
            "epoch: 12 loss: 18.944868087768555\n",
            "epoch: 13 loss: 16.856143951416016\n",
            "epoch: 14 loss: 15.012051582336426\n",
            "epoch: 15 loss: 13.383896827697754\n",
            "epoch: 16 loss: 11.946349143981934\n",
            "epoch: 17 loss: 10.677044868469238\n",
            "epoch: 18 loss: 9.556259155273438\n",
            "epoch: 19 loss: 8.566575050354004\n",
            "epoch: 20 loss: 7.692615985870361\n",
            "epoch: 21 loss: 6.920831680297852\n",
            "epoch: 22 loss: 6.23922872543335\n",
            "epoch: 23 loss: 5.637234687805176\n",
            "epoch: 24 loss: 5.105517864227295\n",
            "epoch: 25 loss: 4.6358537673950195\n",
            "epoch: 26 loss: 4.220967769622803\n",
            "epoch: 27 loss: 3.854445457458496\n",
            "epoch: 28 loss: 3.5306174755096436\n",
            "epoch: 29 loss: 3.244485378265381\n",
            "epoch: 30 loss: 2.99163818359375\n",
            "epoch: 31 loss: 2.7681798934936523\n",
            "epoch: 32 loss: 2.570671796798706\n",
            "epoch: 33 loss: 2.3960771560668945\n",
            "epoch: 34 loss: 2.2417194843292236\n",
            "epoch: 35 loss: 2.1052329540252686\n",
            "epoch: 36 loss: 1.9845257997512817\n",
            "epoch: 37 loss: 1.8777587413787842\n",
            "epoch: 38 loss: 1.7833038568496704\n",
            "epoch: 39 loss: 1.699722409248352\n",
            "epoch: 40 loss: 1.6257483959197998\n",
            "epoch: 41 loss: 1.5602608919143677\n",
            "epoch: 42 loss: 1.5022724866867065\n",
            "epoch: 43 loss: 1.4509090185165405\n",
            "epoch: 44 loss: 1.4054007530212402\n",
            "epoch: 45 loss: 1.365066409111023\n",
            "epoch: 46 loss: 1.329306960105896\n",
            "epoch: 47 loss: 1.2975893020629883\n",
            "epoch: 48 loss: 1.2694469690322876\n",
            "epoch: 49 loss: 1.244465708732605\n",
            "epoch: 50 loss: 1.22227942943573\n",
            "epoch: 51 loss: 1.2025656700134277\n",
            "epoch: 52 loss: 1.1850392818450928\n",
            "epoch: 53 loss: 1.1694493293762207\n",
            "epoch: 54 loss: 1.1555722951889038\n",
            "epoch: 55 loss: 1.1432119607925415\n",
            "epoch: 56 loss: 1.1321943998336792\n",
            "epoch: 57 loss: 1.1223669052124023\n",
            "epoch: 58 loss: 1.1135941743850708\n",
            "epoch: 59 loss: 1.10575532913208\n",
            "epoch: 60 loss: 1.0987448692321777\n",
            "epoch: 61 loss: 1.0924689769744873\n",
            "epoch: 62 loss: 1.0868455171585083\n",
            "epoch: 63 loss: 1.081800937652588\n",
            "epoch: 64 loss: 1.077270269393921\n",
            "epoch: 65 loss: 1.0731960535049438\n",
            "epoch: 66 loss: 1.0695282220840454\n",
            "epoch: 67 loss: 1.066222071647644\n",
            "epoch: 68 loss: 1.063237190246582\n",
            "epoch: 69 loss: 1.0605388879776\n",
            "epoch: 70 loss: 1.0580960512161255\n",
            "epoch: 71 loss: 1.0558812618255615\n",
            "epoch: 72 loss: 1.0538697242736816\n",
            "epoch: 73 loss: 1.0520402193069458\n",
            "epoch: 74 loss: 1.0503731966018677\n",
            "epoch: 75 loss: 1.0488513708114624\n",
            "epoch: 76 loss: 1.0474603176116943\n",
            "epoch: 77 loss: 1.0461862087249756\n",
            "epoch: 78 loss: 1.0450174808502197\n",
            "epoch: 79 loss: 1.0439430475234985\n",
            "epoch: 80 loss: 1.0429539680480957\n",
            "epoch: 81 loss: 1.042041301727295\n",
            "epoch: 82 loss: 1.0411981344223022\n",
            "epoch: 83 loss: 1.0404176712036133\n",
            "epoch: 84 loss: 1.03969407081604\n",
            "epoch: 85 loss: 1.0390218496322632\n",
            "epoch: 86 loss: 1.0383961200714111\n",
            "epoch: 87 loss: 1.0378133058547974\n",
            "epoch: 88 loss: 1.037268877029419\n",
            "epoch: 89 loss: 1.0367602109909058\n",
            "epoch: 90 loss: 1.0362836122512817\n",
            "epoch: 91 loss: 1.0358368158340454\n",
            "epoch: 92 loss: 1.035417079925537\n",
            "epoch: 93 loss: 1.0350226163864136\n",
            "epoch: 94 loss: 1.0346509218215942\n",
            "epoch: 95 loss: 1.034300446510315\n",
            "epoch: 96 loss: 1.0339699983596802\n",
            "epoch: 97 loss: 1.033657193183899\n",
            "epoch: 98 loss: 1.033361554145813\n",
            "epoch: 99 loss: 1.0330817699432373\n"
          ],
          "name": "stdout"
        }
      ]
    },
    {
      "cell_type": "code",
      "metadata": {
        "id": "FXd3LQwlweR6",
        "colab_type": "code",
        "outputId": "50610147-9ffa-45b7-8a63-c13adcda16ca",
        "colab": {
          "base_uri": "https://localhost:8080/",
          "height": 282
        }
      },
      "source": [
        "plt.plot(range(epochs),losses)"
      ],
      "execution_count": 0,
      "outputs": [
        {
          "output_type": "execute_result",
          "data": {
            "text/plain": [
              "[<matplotlib.lines.Line2D at 0x7fc0b10d08d0>]"
            ]
          },
          "metadata": {
            "tags": []
          },
          "execution_count": 57
        },
        {
          "output_type": "display_data",
          "data": {
            "image/png": "[encoded data removed]",
            "text/plain": [
              "<Figure size 432x288 with 1 Axes>"
            ]
          },
          "metadata": {
            "tags": [],
            "needs_background": "light"
          }
        }
      ]
    },
    {
      "cell_type": "code",
      "metadata": {
        "id": "Iyj8D9LMxIrX",
        "colab_type": "code",
        "outputId": "81dfebab-56d7-4803-808e-2f7f00f01d3b",
        "colab": {
          "base_uri": "https://localhost:8080/",
          "height": 265
        }
      },
      "source": [
        "plot_fit(\"training\")"
      ],
      "execution_count": 0,
      "outputs": [
        {
          "output_type": "display_data",
          "data": {
            "image/png": "[encoded data removed]",
            "text/plain": [
              "<Figure size 432x288 with 1 Axes>"
            ]
          },
          "metadata": {
            "tags": [],
            "needs_background": "light"
          }
        }
      ]
    },
    {
      "cell_type": "code",
      "metadata": {
        "id": "L9IBI0VDxkBU",
        "colab_type": "code",
        "colab": {}
      },
      "source": [
        ""
      ],
      "execution_count": 0,
      "outputs": []
    }
  ]
}